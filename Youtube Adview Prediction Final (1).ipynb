{
 "cells": [
  {
   "cell_type": "markdown",
   "metadata": {},
   "source": [
    "# Importing Data"
   ]
  },
  {
   "cell_type": "code",
   "execution_count": 31,
   "metadata": {},
   "outputs": [],
   "source": [
    "import numpy as np\n",
    "import pandas as pd\n",
    "import matplotlib.cm as cm\n",
    "import matplotlib.pyplot as plt"
   ]
  },
  {
   "cell_type": "code",
   "execution_count": 32,
   "metadata": {},
   "outputs": [],
   "source": [
    "data_train=pd.read_csv(\"Downloads/train - train.csv\")"
   ]
  },
  {
   "cell_type": "code",
   "execution_count": 33,
   "metadata": {},
   "outputs": [
    {
     "data": {
      "text/html": [
       "<div>\n",
       "<style scoped>\n",
       "    .dataframe tbody tr th:only-of-type {\n",
       "        vertical-align: middle;\n",
       "    }\n",
       "\n",
       "    .dataframe tbody tr th {\n",
       "        vertical-align: top;\n",
       "    }\n",
       "\n",
       "    .dataframe thead th {\n",
       "        text-align: right;\n",
       "    }\n",
       "</style>\n",
       "<table border=\"1\" class=\"dataframe\">\n",
       "  <thead>\n",
       "    <tr style=\"text-align: right;\">\n",
       "      <th></th>\n",
       "      <th>vidid</th>\n",
       "      <th>adview</th>\n",
       "      <th>views</th>\n",
       "      <th>likes</th>\n",
       "      <th>dislikes</th>\n",
       "      <th>comment</th>\n",
       "      <th>published</th>\n",
       "      <th>duration</th>\n",
       "      <th>category</th>\n",
       "    </tr>\n",
       "  </thead>\n",
       "  <tbody>\n",
       "    <tr>\n",
       "      <td>0</td>\n",
       "      <td>VID_18655</td>\n",
       "      <td>40</td>\n",
       "      <td>1031602</td>\n",
       "      <td>8523</td>\n",
       "      <td>363</td>\n",
       "      <td>1095</td>\n",
       "      <td>2016-09-14</td>\n",
       "      <td>PT7M37S</td>\n",
       "      <td>F</td>\n",
       "    </tr>\n",
       "    <tr>\n",
       "      <td>1</td>\n",
       "      <td>VID_14135</td>\n",
       "      <td>2</td>\n",
       "      <td>1707</td>\n",
       "      <td>56</td>\n",
       "      <td>2</td>\n",
       "      <td>6</td>\n",
       "      <td>2016-10-01</td>\n",
       "      <td>PT9M30S</td>\n",
       "      <td>D</td>\n",
       "    </tr>\n",
       "    <tr>\n",
       "      <td>2</td>\n",
       "      <td>VID_2187</td>\n",
       "      <td>1</td>\n",
       "      <td>2023</td>\n",
       "      <td>25</td>\n",
       "      <td>0</td>\n",
       "      <td>2</td>\n",
       "      <td>2016-07-02</td>\n",
       "      <td>PT2M16S</td>\n",
       "      <td>C</td>\n",
       "    </tr>\n",
       "    <tr>\n",
       "      <td>3</td>\n",
       "      <td>VID_23096</td>\n",
       "      <td>6</td>\n",
       "      <td>620860</td>\n",
       "      <td>777</td>\n",
       "      <td>161</td>\n",
       "      <td>153</td>\n",
       "      <td>2016-07-27</td>\n",
       "      <td>PT4M22S</td>\n",
       "      <td>H</td>\n",
       "    </tr>\n",
       "    <tr>\n",
       "      <td>4</td>\n",
       "      <td>VID_10175</td>\n",
       "      <td>1</td>\n",
       "      <td>666</td>\n",
       "      <td>1</td>\n",
       "      <td>0</td>\n",
       "      <td>0</td>\n",
       "      <td>2016-06-29</td>\n",
       "      <td>PT31S</td>\n",
       "      <td>D</td>\n",
       "    </tr>\n",
       "  </tbody>\n",
       "</table>\n",
       "</div>"
      ],
      "text/plain": [
       "       vidid  adview    views likes dislikes comment   published duration  \\\n",
       "0  VID_18655      40  1031602  8523      363    1095  2016-09-14  PT7M37S   \n",
       "1  VID_14135       2     1707    56        2       6  2016-10-01  PT9M30S   \n",
       "2   VID_2187       1     2023    25        0       2  2016-07-02  PT2M16S   \n",
       "3  VID_23096       6   620860   777      161     153  2016-07-27  PT4M22S   \n",
       "4  VID_10175       1      666     1        0       0  2016-06-29    PT31S   \n",
       "\n",
       "  category  \n",
       "0        F  \n",
       "1        D  \n",
       "2        C  \n",
       "3        H  \n",
       "4        D  "
      ]
     },
     "execution_count": 33,
     "metadata": {},
     "output_type": "execute_result"
    }
   ],
   "source": [
    "data_train.head()"
   ]
  },
  {
   "cell_type": "code",
   "execution_count": 34,
   "metadata": {},
   "outputs": [
    {
     "data": {
      "text/plain": [
       "(14999, 9)"
      ]
     },
     "execution_count": 34,
     "metadata": {},
     "output_type": "execute_result"
    }
   ],
   "source": [
    "data_train.shape"
   ]
  },
  {
   "cell_type": "code",
   "execution_count": 35,
   "metadata": {},
   "outputs": [],
   "source": [
    "data_test=pd.read_csv(\"Downloads/test (1).csv\")"
   ]
  },
  {
   "cell_type": "code",
   "execution_count": 36,
   "metadata": {},
   "outputs": [
    {
     "data": {
      "text/plain": [
       "Index(['vidid', 'adview', 'views', 'likes', 'dislikes', 'comment', 'published',\n",
       "       'duration', 'category'],\n",
       "      dtype='object')"
      ]
     },
     "execution_count": 36,
     "metadata": {},
     "output_type": "execute_result"
    }
   ],
   "source": [
    "data_train.columns"
   ]
  },
  {
   "cell_type": "markdown",
   "metadata": {},
   "source": [
    "## Visualizations"
   ]
  },
  {
   "cell_type": "code",
   "execution_count": 37,
   "metadata": {},
   "outputs": [
    {
     "data": {
      "image/png": "[encoded data removed]",
      "text/plain": [
       "<Figure size 432x288 with 1 Axes>"
      ]
     },
     "metadata": {
      "needs_background": "light"
     },
     "output_type": "display_data"
    }
   ],
   "source": [
    "plt.hist(data_train[\"category\"])\n",
    "plt.show()\n"
   ]
  },
  {
   "cell_type": "code",
   "execution_count": 38,
   "metadata": {},
   "outputs": [
    {
     "data": {
      "image/png": "[encoded data removed]",
      "text/plain": [
       "<Figure size 432x288 with 1 Axes>"
      ]
     },
     "metadata": {
      "needs_background": "light"
     },
     "output_type": "display_data"
    }
   ],
   "source": [
    "plt.plot(data_train[\"adview\"])\n",
    "plt.show()"
   ]
  },
  {
   "cell_type": "code",
   "execution_count": 39,
   "metadata": {},
   "outputs": [
    {
     "data": {
      "image/png": "[encoded data removed]",
      "text/plain": [
       "<Figure size 432x288 with 1 Axes>"
      ]
     },
     "metadata": {
      "needs_background": "light"
     },
     "output_type": "display_data"
    }
   ],
   "source": [
    "plt.hist(data_test[\"category\"])\n",
    "plt.show()"
   ]
  },
  {
   "cell_type": "code",
   "execution_count": 40,
   "metadata": {},
   "outputs": [
    {
     "data": {
      "image/png": "[encoded data removed]",
      "text/plain": [
       "<Figure size 720x576 with 2 Axes>"
      ]
     },
     "metadata": {
      "needs_background": "light"
     },
     "output_type": "display_data"
    }
   ],
   "source": [
    "import seaborn as sns\n",
    "f, ax = plt.subplots(figsize=(10, 8))\n",
    "corr = data_train.corr()\n",
    "sns.heatmap(corr, mask=np.zeros_like(corr, dtype=np.bool), cmap=sns.diverging_palette(220, 10, as_cmap=True),\n",
    "square=True, ax=ax,annot=True)\n",
    "plt.show()"
   ]
  },
  {
   "cell_type": "markdown",
   "metadata": {},
   "source": [
    "## Feature Extraction and Data Cleaning"
   ]
  },
  {
   "cell_type": "code",
   "execution_count": 41,
   "metadata": {},
   "outputs": [
    {
     "data": {
      "text/html": [
       "<div>\n",
       "<style scoped>\n",
       "    .dataframe tbody tr th:only-of-type {\n",
       "        vertical-align: middle;\n",
       "    }\n",
       "\n",
       "    .dataframe tbody tr th {\n",
       "        vertical-align: top;\n",
       "    }\n",
       "\n",
       "    .dataframe thead th {\n",
       "        text-align: right;\n",
       "    }\n",
       "</style>\n",
       "<table border=\"1\" class=\"dataframe\">\n",
       "  <thead>\n",
       "    <tr style=\"text-align: right;\">\n",
       "      <th></th>\n",
       "      <th>vidid</th>\n",
       "      <th>adview</th>\n",
       "      <th>views</th>\n",
       "      <th>likes</th>\n",
       "      <th>dislikes</th>\n",
       "      <th>comment</th>\n",
       "      <th>published</th>\n",
       "      <th>duration</th>\n",
       "      <th>category</th>\n",
       "    </tr>\n",
       "  </thead>\n",
       "  <tbody>\n",
       "    <tr>\n",
       "      <td>0</td>\n",
       "      <td>VID_18655</td>\n",
       "      <td>40</td>\n",
       "      <td>1031602</td>\n",
       "      <td>8523</td>\n",
       "      <td>363</td>\n",
       "      <td>1095</td>\n",
       "      <td>2016-09-14</td>\n",
       "      <td>PT7M37S</td>\n",
       "      <td>6</td>\n",
       "    </tr>\n",
       "    <tr>\n",
       "      <td>1</td>\n",
       "      <td>VID_14135</td>\n",
       "      <td>2</td>\n",
       "      <td>1707</td>\n",
       "      <td>56</td>\n",
       "      <td>2</td>\n",
       "      <td>6</td>\n",
       "      <td>2016-10-01</td>\n",
       "      <td>PT9M30S</td>\n",
       "      <td>4</td>\n",
       "    </tr>\n",
       "    <tr>\n",
       "      <td>2</td>\n",
       "      <td>VID_2187</td>\n",
       "      <td>1</td>\n",
       "      <td>2023</td>\n",
       "      <td>25</td>\n",
       "      <td>0</td>\n",
       "      <td>2</td>\n",
       "      <td>2016-07-02</td>\n",
       "      <td>PT2M16S</td>\n",
       "      <td>3</td>\n",
       "    </tr>\n",
       "    <tr>\n",
       "      <td>3</td>\n",
       "      <td>VID_23096</td>\n",
       "      <td>6</td>\n",
       "      <td>620860</td>\n",
       "      <td>777</td>\n",
       "      <td>161</td>\n",
       "      <td>153</td>\n",
       "      <td>2016-07-27</td>\n",
       "      <td>PT4M22S</td>\n",
       "      <td>8</td>\n",
       "    </tr>\n",
       "    <tr>\n",
       "      <td>4</td>\n",
       "      <td>VID_10175</td>\n",
       "      <td>1</td>\n",
       "      <td>666</td>\n",
       "      <td>1</td>\n",
       "      <td>0</td>\n",
       "      <td>0</td>\n",
       "      <td>2016-06-29</td>\n",
       "      <td>PT31S</td>\n",
       "      <td>4</td>\n",
       "    </tr>\n",
       "  </tbody>\n",
       "</table>\n",
       "</div>"
      ],
      "text/plain": [
       "       vidid  adview    views likes dislikes comment   published duration  \\\n",
       "0  VID_18655      40  1031602  8523      363    1095  2016-09-14  PT7M37S   \n",
       "1  VID_14135       2     1707    56        2       6  2016-10-01  PT9M30S   \n",
       "2   VID_2187       1     2023    25        0       2  2016-07-02  PT2M16S   \n",
       "3  VID_23096       6   620860   777      161     153  2016-07-27  PT4M22S   \n",
       "4  VID_10175       1      666     1        0       0  2016-06-29    PT31S   \n",
       "\n",
       "   category  \n",
       "0         6  \n",
       "1         4  \n",
       "2         3  \n",
       "3         8  \n",
       "4         4  "
      ]
     },
     "execution_count": 41,
     "metadata": {},
     "output_type": "execute_result"
    }
   ],
   "source": [
    "# Removing character \"F\" present in data\n",
    "data_train=data_train[data_train.views!='F']\n",
    "data_train=data_train[data_train.likes!='F']\n",
    "data_train=data_train[data_train.dislikes!='F']\n",
    "data_train=data_train[data_train.comment!='F']\n",
    "data_train.head()\n",
    "# Assigning each category a number for Category feature\n",
    "category={'A': 1,'B':2,'C':3,'D':4,'E':5,'F':6,'G':7,'H':8}\n",
    "data_train[\"category\"]=data_train[\"category\"].map(category)\n",
    "data_train.head()\n"
   ]
  },
  {
   "cell_type": "code",
   "execution_count": 42,
   "metadata": {},
   "outputs": [
    {
     "data": {
      "text/html": [
       "<div>\n",
       "<style scoped>\n",
       "    .dataframe tbody tr th:only-of-type {\n",
       "        vertical-align: middle;\n",
       "    }\n",
       "\n",
       "    .dataframe tbody tr th {\n",
       "        vertical-align: top;\n",
       "    }\n",
       "\n",
       "    .dataframe thead th {\n",
       "        text-align: right;\n",
       "    }\n",
       "</style>\n",
       "<table border=\"1\" class=\"dataframe\">\n",
       "  <thead>\n",
       "    <tr style=\"text-align: right;\">\n",
       "      <th></th>\n",
       "      <th>vidid</th>\n",
       "      <th>views</th>\n",
       "      <th>likes</th>\n",
       "      <th>dislikes</th>\n",
       "      <th>comment</th>\n",
       "      <th>published</th>\n",
       "      <th>duration</th>\n",
       "      <th>category</th>\n",
       "    </tr>\n",
       "  </thead>\n",
       "  <tbody>\n",
       "    <tr>\n",
       "      <td>0</td>\n",
       "      <td>VID_1054</td>\n",
       "      <td>440238</td>\n",
       "      <td>6153</td>\n",
       "      <td>218</td>\n",
       "      <td>1377</td>\n",
       "      <td>2017-02-18</td>\n",
       "      <td>PT7M29S</td>\n",
       "      <td>2</td>\n",
       "    </tr>\n",
       "    <tr>\n",
       "      <td>1</td>\n",
       "      <td>VID_18629</td>\n",
       "      <td>1040132</td>\n",
       "      <td>8171</td>\n",
       "      <td>340</td>\n",
       "      <td>1047</td>\n",
       "      <td>2016-06-28</td>\n",
       "      <td>PT6M29S</td>\n",
       "      <td>6</td>\n",
       "    </tr>\n",
       "    <tr>\n",
       "      <td>2</td>\n",
       "      <td>VID_13967</td>\n",
       "      <td>28534</td>\n",
       "      <td>31</td>\n",
       "      <td>11</td>\n",
       "      <td>1</td>\n",
       "      <td>2014-03-10</td>\n",
       "      <td>PT37M54S</td>\n",
       "      <td>4</td>\n",
       "    </tr>\n",
       "    <tr>\n",
       "      <td>3</td>\n",
       "      <td>VID_19442</td>\n",
       "      <td>1316715</td>\n",
       "      <td>2284</td>\n",
       "      <td>250</td>\n",
       "      <td>274</td>\n",
       "      <td>2010-06-05</td>\n",
       "      <td>PT9M55S</td>\n",
       "      <td>7</td>\n",
       "    </tr>\n",
       "    <tr>\n",
       "      <td>4</td>\n",
       "      <td>VID_770</td>\n",
       "      <td>1893173</td>\n",
       "      <td>2519</td>\n",
       "      <td>225</td>\n",
       "      <td>116</td>\n",
       "      <td>2016-09-03</td>\n",
       "      <td>PT3M8S</td>\n",
       "      <td>2</td>\n",
       "    </tr>\n",
       "  </tbody>\n",
       "</table>\n",
       "</div>"
      ],
      "text/plain": [
       "       vidid    views likes dislikes comment   published  duration  category\n",
       "0   VID_1054   440238  6153      218    1377  2017-02-18   PT7M29S         2\n",
       "1  VID_18629  1040132  8171      340    1047  2016-06-28   PT6M29S         6\n",
       "2  VID_13967    28534    31       11       1  2014-03-10  PT37M54S         4\n",
       "3  VID_19442  1316715  2284      250     274  2010-06-05   PT9M55S         7\n",
       "4    VID_770  1893173  2519      225     116  2016-09-03    PT3M8S         2"
      ]
     },
     "execution_count": 42,
     "metadata": {},
     "output_type": "execute_result"
    }
   ],
   "source": [
    "# Removing character \"F\" present in data\n",
    "data_test=data_test[data_test.views!='F']\n",
    "data_test=data_test[data_test.likes!='F']\n",
    "data_test=data_test[data_test.dislikes!='F']\n",
    "data_test=data_test[data_test.comment!='F']\n",
    "data_test.head()\n",
    "# Assigning each category a number for Category feature\n",
    "category={'A': 1,'B':2,'C':3,'D':4,'E':5,'F':6,'G':7,'H':8}\n",
    "data_test[\"category\"]=data_test[\"category\"].map(category)\n",
    "data_test.head()\n"
   ]
  },
  {
   "cell_type": "code",
   "execution_count": 43,
   "metadata": {},
   "outputs": [],
   "source": [
    "# Convert values to integers for views, likes, comments, dislikes and adview\n",
    "data_train[\"views\"] = pd.to_numeric(data_train[\"views\"])\n",
    "data_train[\"comment\"] = pd.to_numeric(data_train[\"comment\"])\n",
    "data_train[\"likes\"] = pd.to_numeric(data_train[\"likes\"])\n",
    "data_train[\"dislikes\"] = pd.to_numeric(data_train[\"dislikes\"])\n",
    "data_train[\"adview\"]=pd.to_numeric(data_train[\"adview\"])\n",
    "column_vidid=data_train['vidid']\n",
    "# Endoding features like Category, Duration, Vidid\n",
    "from sklearn.preprocessing import LabelEncoder\n",
    "data_train['duration']=LabelEncoder().fit_transform(data_train['duration'])\n",
    "data_train['vidid']=LabelEncoder().fit_transform(data_train['vidid'])\n",
    "data_train['published']=LabelEncoder().fit_transform(data_train['published'])\n",
    "data_train.head()\n",
    "# Convert Time_in_sec for duration\n",
    "import datetime\n",
    "import time"
   ]
  },
  {
   "cell_type": "code",
   "execution_count": 44,
   "metadata": {},
   "outputs": [],
   "source": [
    "# Convert values to integers for views, likes, comments, dislikes and adview\n",
    "data_test[\"views\"] = pd.to_numeric(data_test[\"views\"])\n",
    "data_test[\"comment\"] = pd.to_numeric(data_test[\"comment\"])\n",
    "data_test[\"likes\"] = pd.to_numeric(data_test[\"likes\"])\n",
    "data_test[\"dislikes\"] = pd.to_numeric(data_test[\"dislikes\"])\n",
    "column_vidid=data_test['vidid']\n",
    "# Endoding features like Category, Duration, Vidid\n",
    "from sklearn.preprocessing import LabelEncoder\n",
    "data_test['duration']=LabelEncoder().fit_transform(data_test['duration'])\n",
    "data_test['vidid']=LabelEncoder().fit_transform(data_test['vidid'])\n",
    "data_test['published']=LabelEncoder().fit_transform(data_test['published'])\n",
    "data_test.head()\n",
    "# Convert Time_in_sec for duration\n",
    "import datetime\n",
    "import time"
   ]
  },
  {
   "cell_type": "code",
   "execution_count": 45,
   "metadata": {},
   "outputs": [],
   "source": [
    "def checki(x):\n",
    "    y = x[2:]\n",
    "    h = ''\n",
    "    m = ''\n",
    "    s = ''\n",
    "    mm = ''\n",
    "    P = ['H','M','S']\n",
    "    for i in y:\n",
    "        if i not in P:\n",
    "            mm+=i\n",
    "        else:\n",
    "            if(i==\"H\"):\n",
    "                h = mm\n",
    "                mm = ''\n",
    "            elif(i == \"M\"):\n",
    "                m = mm\n",
    "                mm = ''\n",
    "            else:\n",
    "                s = mm\n",
    "                mm = ''\n",
    "        if(h==''):\n",
    "            h = '00'\n",
    "        if(m == ''):\n",
    "            m = '00'\n",
    "        if(s==''):\n",
    "            s='00'\n",
    "    bp = h+':'+m+':'+s\n",
    "    return bp"
   ]
  },
  {
   "cell_type": "code",
   "execution_count": 46,
   "metadata": {},
   "outputs": [
    {
     "data": {
      "text/plain": [
       "0        2925\n",
       "1        3040\n",
       "2        1863\n",
       "3        2546\n",
       "4        1963\n",
       "         ... \n",
       "14994    2833\n",
       "14995    2257\n",
       "14996    2210\n",
       "14997    1364\n",
       "14998    1050\n",
       "Name: duration, Length: 14637, dtype: int32"
      ]
     },
     "execution_count": 46,
     "metadata": {},
     "output_type": "execute_result"
    }
   ],
   "source": [
    "train=pd.read_csv(\"Downloads/train - train.csv\")\n",
    "mp = train[\"duration\"]\n",
    "time = mp.apply(checki)\n",
    "def func_sec(time_string):\n",
    "    h, m, s = time_string.split(':')\n",
    "    return int(h) * 3600 + int(m) * 60 + int(s)\n",
    "time1=time.apply(func_sec)\n",
    "data_train[\"duration\"]"
   ]
  },
  {
   "cell_type": "code",
   "execution_count": 47,
   "metadata": {},
   "outputs": [
    {
     "data": {
      "text/plain": [
       "0       2115\n",
       "1       2055\n",
       "2       1506\n",
       "3       2265\n",
       "4       1625\n",
       "        ... \n",
       "8759    1572\n",
       "8760    1116\n",
       "8761    2100\n",
       "8762    1573\n",
       "8763      17\n",
       "Name: duration, Length: 8549, dtype: int32"
      ]
     },
     "execution_count": 47,
     "metadata": {},
     "output_type": "execute_result"
    }
   ],
   "source": [
    "test=pd.read_csv(\"Downloads/test (1).csv\")\n",
    "mp = test[\"duration\"]\n",
    "time = mp.apply(checki)\n",
    "def func_sec(time_string):\n",
    "    h, m, s = time_string.split(':')\n",
    "    return int(h) * 3600 + int(m) * 60 + int(s)\n",
    "time1=time.apply(func_sec)\n",
    "data_test[\"duration\"]"
   ]
  },
  {
   "cell_type": "markdown",
   "metadata": {},
   "source": [
    "### Splitting Data and Fitting it into different Models"
   ]
  },
  {
   "cell_type": "code",
   "execution_count": 48,
   "metadata": {},
   "outputs": [
    {
     "data": {
      "text/plain": [
       "0.25583174881891707"
      ]
     },
     "execution_count": 48,
     "metadata": {},
     "output_type": "execute_result"
    }
   ],
   "source": [
    "# Split Data\n",
    "Y_train = pd.DataFrame(data = data_train.iloc[:, 1].values, columns = ['target'])\n",
    "data_train=data_train.drop([\"adview\"],axis=1)\n",
    "data_train=data_train.drop([\"vidid\"],axis=1)\n",
    "data_train.head()\n",
    "from sklearn.model_selection import train_test_split\n",
    "X_train, X_test, y_train, y_test = train_test_split(data_train, Y_train, test_size=0.2, random_state=42)\n",
    "X_train.shape\n",
    "# Normalise Data\n",
    "from sklearn.preprocessing import MinMaxScaler\n",
    "scaler = MinMaxScaler()\n",
    "X_train=scaler.fit_transform(X_train)\n",
    "X_test=scaler.fit_transform(X_test)\n",
    "X_train.mean()"
   ]
  },
  {
   "cell_type": "code",
   "execution_count": null,
   "metadata": {},
   "outputs": [],
   "source": []
  },
  {
   "cell_type": "markdown",
   "metadata": {},
   "source": [
    "### Linear Regression And SVM  Model"
   ]
  },
  {
   "cell_type": "code",
   "execution_count": 56,
   "metadata": {
    "scrolled": true
   },
   "outputs": [
    {
     "name": "stdout",
     "output_type": "stream",
     "text": [
      "Mean Absolute Error: 5288.146964612727\n",
      "Mean Squared Error: 10881576714.292877\n",
      "Root Mean Squared Error: 104314.7962385628\n",
      "R2 Score: 0.0007014031462760917\n"
     ]
    },
    {
     "name": "stderr",
     "output_type": "stream",
     "text": [
      "C:\\Users\\hp\\Anaconda3\\lib\\site-packages\\sklearn\\utils\\validation.py:724: DataConversionWarning: A column-vector y was passed when a 1d array was expected. Please change the shape of y to (n_samples, ), for example using ravel().\n",
      "  y = column_or_1d(y, warn=True)\n",
      "C:\\Users\\hp\\Anaconda3\\lib\\site-packages\\sklearn\\svm\\base.py:193: FutureWarning: The default value of gamma will change from 'auto' to 'scale' in version 0.22 to account better for unscaled features. Set gamma explicitly to 'auto' or 'scale' to avoid this warning.\n",
      "  \"avoid this warning.\", FutureWarning)\n"
     ]
    },
    {
     "name": "stdout",
     "output_type": "stream",
     "text": [
      "Mean Absolute Error: 5288.146964612727\n",
      "Mean Squared Error: 10881576714.292877\n",
      "Root Mean Squared Error: 104314.7962385628\n",
      "R2 Score: 0.0007014031462760917\n"
     ]
    }
   ],
   "source": [
    "# Evaluation Metrics\n",
    "from sklearn import metrics\n",
    "def print_error(X_test, y_test, model_name):\n",
    "    prediction = model_name.predict(X_test)\n",
    "    print('Mean Absolute Error:', metrics.mean_absolute_error(y_test, prediction))\n",
    "    print('Mean Squared Error:', metrics.mean_squared_error(y_test, prediction))\n",
    "    print('Root Mean Squared Error:', np.sqrt(metrics.mean_squared_error(y_test, prediction)))\n",
    "    print('R2 Score:', metrics.r2_score(y_test,prediction))\n",
    "def print_f_score(X_test,y_true,model_name):\n",
    "    prediction = model_name.predict(X_test)\n",
    "    print(metrics.f1_score(y_true, prediction))\n",
    "# Linear Regression\n",
    "from sklearn import linear_model\n",
    "linear_regression = linear_model.LinearRegression()\n",
    "linear_regression.fit(X_train, y_train)\n",
    "print_error(X_test,y_test, linear_regression)\n",
    "# Support Vector Regressor\n",
    "from sklearn.svm import SVR\n",
    "supportvector_regressor = SVR()\n",
    "supportvector_regressor.fit(X_train,y_train)\n",
    "print_error(X_test,y_test, linear_regression)"
   ]
  },
  {
   "cell_type": "markdown",
   "metadata": {},
   "source": [
    "### Decision Tree Model"
   ]
  },
  {
   "cell_type": "code",
   "execution_count": 57,
   "metadata": {},
   "outputs": [
    {
     "name": "stdout",
     "output_type": "stream",
     "text": [
      "Mean Absolute Error: 3879.2137978142077\n",
      "Mean Squared Error: 10553215685.947405\n",
      "Root Mean Squared Error: 102728.84544249198\n",
      "R2 Score: 0.03085610622860413\n"
     ]
    },
    {
     "name": "stderr",
     "output_type": "stream",
     "text": [
      "C:\\Users\\hp\\Anaconda3\\lib\\site-packages\\ipykernel_launcher.py:13: DataConversionWarning: A column-vector y was passed when a 1d array was expected. Please change the shape of y to (n_samples,), for example using ravel().\n",
      "  del sys.path[0]\n"
     ]
    },
    {
     "data": {
      "text/plain": [
       "RandomForestRegressor(bootstrap=True, criterion='mse', max_depth=25,\n",
       "                      max_features='auto', max_leaf_nodes=None,\n",
       "                      min_impurity_decrease=0.0, min_impurity_split=None,\n",
       "                      min_samples_leaf=1, min_samples_split=15,\n",
       "                      min_weight_fraction_leaf=0.0, n_estimators=200,\n",
       "                      n_jobs=None, oob_score=False, random_state=None,\n",
       "                      verbose=0, warm_start=False)"
      ]
     },
     "execution_count": 57,
     "metadata": {},
     "output_type": "execute_result"
    }
   ],
   "source": [
    "# Decision Tree Regressor\n",
    "from sklearn.tree import DecisionTreeRegressor\n",
    "decision_tree = DecisionTreeRegressor()\n",
    "decision_tree.fit(X_train, y_train)\n",
    "print_error(X_test,y_test, decision_tree)\n",
    "# Random Forest Regressor\n",
    "from sklearn.ensemble import RandomForestRegressor\n",
    "n_estimators = 200\n",
    "max_depth = 25\n",
    "min_samples_split=15\n",
    "min_samples_leaf=2\n",
    "random_forest = RandomForestRegressor(n_estimators = n_estimators, max_depth = max_depth, min_samples_split=min_samples_split)\n",
    "random_forest.fit(X_train,y_train)\n"
   ]
  },
  {
   "cell_type": "code",
   "execution_count": 58,
   "metadata": {},
   "outputs": [],
   "source": [
    "# Artificial Neural Network"
   ]
  },
  {
   "cell_type": "markdown",
   "metadata": {},
   "source": [
    "### Neural Network"
   ]
  },
  {
   "cell_type": "code",
   "execution_count": 22,
   "metadata": {},
   "outputs": [],
   "source": [
    "import tensorflow as tf\n",
    "from tensorflow import keras\n",
    "from tensorflow.keras import layers\n",
    "from tensorflow.keras.layers import Dense"
   ]
  },
  {
   "cell_type": "code",
   "execution_count": 23,
   "metadata": {},
   "outputs": [
    {
     "name": "stdout",
     "output_type": "stream",
     "text": [
      "WARNING:tensorflow:From C:\\Users\\hp\\Anaconda3\\lib\\site-packages\\tensorflow_core\\python\\ops\\resource_variable_ops.py:1630: calling BaseResourceVariable.__init__ (from tensorflow.python.ops.resource_variable_ops) with constraint is deprecated and will be removed in a future version.\n",
      "Instructions for updating:\n",
      "If using Keras pass *_constraint arguments to layers.\n",
      "Train on 11709 samples\n",
      "Epoch 1/100\n",
      "11709/11709 [==============================] - 1s 68us/sample - loss: 767618418.6376 - mean_squared_error: 767618112.0000\n",
      "Epoch 2/100\n",
      "11709/11709 [==============================] - 1s 91us/sample - loss: 767608821.3805 - mean_squared_error: 767608960.0000\n",
      "Epoch 3/100\n",
      "11709/11709 [==============================] - 1s 103us/sample - loss: 767585254.4470 - mean_squared_error: 767585408.0000\n",
      "Epoch 4/100\n",
      "11709/11709 [==============================] - 1s 85us/sample - loss: 767547640.6365 - mean_squared_error: 767546944.0000s - loss: 814984595.7216 - mean_squared_error: 814984128.\n",
      "Epoch 5/100\n",
      "11709/11709 [==============================] - 1s 83us/sample - loss: 767487665.9594 - mean_squared_error: 767487424.0000\n",
      "Epoch 6/100\n",
      "11709/11709 [==============================] - 1s 101us/sample - loss: 767407350.7990 - mean_squared_error: 767406848.0000\n",
      "Epoch 7/100\n",
      "11709/11709 [==============================] - 1s 89us/sample - loss: 767302776.5902 - mean_squared_error: 767303296.0000\n",
      "Epoch 8/100\n",
      "11709/11709 [==============================] - 1s 77us/sample - loss: 767180632.5268 - mean_squared_error: 767180672.0000\n",
      "Epoch 9/100\n",
      "11709/11709 [==============================] - 1s 75us/sample - loss: 767041727.2579 - mean_squared_error: 767041984.0000\n",
      "Epoch 10/100\n",
      "11709/11709 [==============================] - 1s 76us/sample - loss: 766886021.3910 - mean_squared_error: 766886144.0000\n",
      "Epoch 11/100\n",
      "11709/11709 [==============================] - 1s 79us/sample - loss: 766718464.7930 - mean_squared_error: 766718336.0000\n",
      "Epoch 12/100\n",
      "11709/11709 [==============================] - 1s 64us/sample - loss: 766541052.3490 - mean_squared_error: 766541056.0000\n",
      "Epoch 13/100\n",
      "11709/11709 [==============================] - 1s 86us/sample - loss: 766365243.7629 - mean_squared_error: 766365120.0000\n",
      "Epoch 14/100\n",
      "11709/11709 [==============================] - 1s 56us/sample - loss: 766189848.0005 - mean_squared_error: 766189952.0000\n",
      "Epoch 15/100\n",
      "11709/11709 [==============================] - 1s 60us/sample - loss: 766019286.2494 - mean_squared_error: 766019136.0000\n",
      "Epoch 16/100\n",
      "11709/11709 [==============================] - 1s 97us/sample - loss: 765845833.6082 - mean_squared_error: 765845760.0000\n",
      "Epoch 17/100\n",
      "11709/11709 [==============================] - 1s 61us/sample - loss: 765672788.7962 - mean_squared_error: 765672640.0000\n",
      "Epoch 18/100\n",
      "11709/11709 [==============================] - 1s 56us/sample - loss: 765512936.7177 - mean_squared_error: 765512896.0000\n",
      "Epoch 19/100\n",
      "11709/11709 [==============================] - 1s 56us/sample - loss: 765363344.7602 - mean_squared_error: 765363072.0000\n",
      "Epoch 20/100\n",
      "11709/11709 [==============================] - 1s 60us/sample - loss: 765225945.7715 - mean_squared_error: 765225472.0000\n",
      "Epoch 21/100\n",
      "11709/11709 [==============================] - 1s 63us/sample - loss: 765101640.0641 - mean_squared_error: 765101760.0000\n",
      "Epoch 22/100\n",
      "11709/11709 [==============================] - 1s 67us/sample - loss: 764984543.9371 - mean_squared_error: 764984704.0000\n",
      "Epoch 23/100\n",
      "11709/11709 [==============================] - 1s 79us/sample - loss: 764876981.3289 - mean_squared_error: 764876928.0000\n",
      "Epoch 24/100\n",
      "11709/11709 [==============================] - 1s 113us/sample - loss: 764782032.6362 - mean_squared_error: 764781824.0000\n",
      "Epoch 25/100\n",
      "11709/11709 [==============================] - 1s 107us/sample - loss: 764697185.9836 - mean_squared_error: 764697280.0000\n",
      "Epoch 26/100\n",
      "11709/11709 [==============================] - 2s 129us/sample - loss: 764619331.5693 - mean_squared_error: 764618944.0000\n",
      "Epoch 27/100\n",
      "11709/11709 [==============================] - 1s 97us/sample - loss: 764552391.3663 - mean_squared_error: 764552704.0000\n",
      "Epoch 28/100\n",
      "11709/11709 [==============================] - 1s 78us/sample - loss: 764489075.7779 - mean_squared_error: 764489216.0000\n",
      "Epoch 29/100\n",
      "11709/11709 [==============================] - 1s 82us/sample - loss: 764434798.6315 - mean_squared_error: 764435008.0000\n",
      "Epoch 30/100\n",
      "11709/11709 [==============================] - 1s 82us/sample - loss: 764389520.9301 - mean_squared_error: 764389696.0000\n",
      "Epoch 31/100\n",
      "11709/11709 [==============================] - 1s 117us/sample - loss: 764347266.4997 - mean_squared_error: 764347456.0000\n",
      "Epoch 32/100\n",
      "11709/11709 [==============================] - 1s 124us/sample - loss: 764313537.1656 - mean_squared_error: 764313728.0000\n",
      "Epoch 33/100\n",
      "11709/11709 [==============================] - 1s 109us/sample - loss: 764280169.0206 - mean_squared_error: 764280320.0000\n",
      "Epoch 34/100\n",
      "11709/11709 [==============================] - 2s 130us/sample - loss: 764252533.6809 - mean_squared_error: 764252672.0000\n",
      "Epoch 35/100\n",
      "11709/11709 [==============================] - 1s 85us/sample - loss: 764229096.4794 - mean_squared_error: 764229056.0000\n",
      "Epoch 36/100\n",
      "11709/11709 [==============================] - 1s 103us/sample - loss: 764209774.6595 - mean_squared_error: 764209664.0000\n",
      "Epoch 37/100\n",
      "11709/11709 [==============================] - 1s 123us/sample - loss: 764191938.2519 - mean_squared_error: 764191872.0000\n",
      "Epoch 38/100\n",
      "11709/11709 [==============================] - 1s 126us/sample - loss: 764173031.1091 - mean_squared_error: 764172800.0000\n",
      "Epoch 39/100\n",
      "11709/11709 [==============================] - 2s 134us/sample - loss: 764163909.9798 - mean_squared_error: 764164288.0000\n",
      "Epoch 40/100\n",
      "11709/11709 [==============================] - 2s 130us/sample - loss: 764149514.4827 - mean_squared_error: 764149312.0000\n",
      "Epoch 41/100\n",
      "11709/11709 [==============================] - 1s 123us/sample - loss: 764136945.4438 - mean_squared_error: 764136960.0000\n",
      "Epoch 42/100\n",
      "11709/11709 [==============================] - 1s 117us/sample - loss: 764132303.4587 - mean_squared_error: 764132288.0000\n",
      "Epoch 43/100\n",
      "11709/11709 [==============================] - 1s 125us/sample - loss: 764120355.8922 - mean_squared_error: 764119808.0000\n",
      "Epoch 44/100\n",
      "11709/11709 [==============================] - 1s 122us/sample - loss: 764112319.9541 - mean_squared_error: 764112320.0000\n",
      "Epoch 45/100\n",
      "11709/11709 [==============================] - 1s 90us/sample - loss: 764103616.4878 - mean_squared_error: 764103552.0000\n",
      "Epoch 46/100\n",
      "11709/11709 [==============================] - 1s 115us/sample - loss: 764096954.6582 - mean_squared_error: 764096768.0000\n",
      "Epoch 47/100\n",
      "11709/11709 [==============================] - 1s 119us/sample - loss: 764090130.5637 - mean_squared_error: 764089984.0000\n",
      "Epoch 48/100\n",
      "11709/11709 [==============================] - 2s 131us/sample - loss: 764084031.2637 - mean_squared_error: 764084160.0000\n",
      "Epoch 49/100\n",
      "11709/11709 [==============================] - 1s 97us/sample - loss: 764078694.9852 - mean_squared_error: 764078336.0000\n",
      "Epoch 50/100\n",
      "11709/11709 [==============================] - 1s 91us/sample - loss: 764073305.9854 - mean_squared_error: 764073408.0000\n",
      "Epoch 51/100\n",
      "11709/11709 [==============================] - 1s 70us/sample - loss: 764068699.8664 - mean_squared_error: 764068480.0000\n",
      "Epoch 52/100\n",
      "11709/11709 [==============================] - 1s 108us/sample - loss: 764065235.1814 - mean_squared_error: 764065152.0000\n",
      "Epoch 53/100\n",
      "11709/11709 [==============================] - 1s 119us/sample - loss: 764058002.7798 - mean_squared_error: 764057728.0000\n",
      "Epoch 54/100\n",
      "11709/11709 [==============================] - 1s 116us/sample - loss: 764054839.9815 - mean_squared_error: 764055040.0000\n",
      "Epoch 55/100\n",
      "11709/11709 [==============================] - 1s 121us/sample - loss: 764051207.6121 - mean_squared_error: 764050816.0000\n",
      "Epoch 56/100\n",
      "11709/11709 [==============================] - 1s 112us/sample - loss: 764045426.7968 - mean_squared_error: 764045248.0000\n",
      "Epoch 57/100\n",
      "11709/11709 [==============================] - 1s 117us/sample - loss: 764045602.3305 - mean_squared_error: 764045440.0000\n",
      "Epoch 58/100\n",
      "11709/11709 [==============================] - 1s 117us/sample - loss: 764036546.7726 - mean_squared_error: 764036480.0000\n",
      "Epoch 59/100\n",
      "11709/11709 [==============================] - 1s 99us/sample - loss: 764033084.6160 - mean_squared_error: 764033024.0000\n",
      "Epoch 60/100\n",
      "11709/11709 [==============================] - 1s 105us/sample - loss: 764031830.3265 - mean_squared_error: 764032192.0000\n",
      "Epoch 61/100\n",
      "11709/11709 [==============================] - 1s 82us/sample - loss: 764028965.3622 - mean_squared_error: 764028992.0000\n",
      "Epoch 62/100\n",
      "11709/11709 [==============================] - 1s 76us/sample - loss: 764022874.7990 - mean_squared_error: 764022336.0000\n",
      "Epoch 63/100\n",
      "11709/11709 [==============================] - 1s 78us/sample - loss: 764019896.8826 - mean_squared_error: 764020096.0000\n",
      "Epoch 64/100\n",
      "11709/11709 [==============================] - 1s 80us/sample - loss: 764016463.1726 - mean_squared_error: 764016896.0000\n",
      "Epoch 65/100\n",
      "11709/11709 [==============================] - 1s 81us/sample - loss: 764012540.8442 - mean_squared_error: 764012672.0000\n",
      "Epoch 66/100\n",
      "11709/11709 [==============================] - 1s 78us/sample - loss: 764009426.4364 - mean_squared_error: 764009600.0000\n",
      "Epoch 67/100\n",
      "11709/11709 [==============================] - 1s 78us/sample - loss: 764007008.3177 - mean_squared_error: 764006848.0000\n",
      "Epoch 68/100\n",
      "11709/11709 [==============================] - 1s 85us/sample - loss: 764004578.9331 - mean_squared_error: 764004352.0000\n",
      "Epoch 69/100\n",
      "11709/11709 [==============================] - 1s 85us/sample - loss: 763996257.5435 - mean_squared_error: 763996352.0000\n",
      "Epoch 70/100\n",
      "11709/11709 [==============================] - 1s 107us/sample - loss: 763992432.1207 - mean_squared_error: 763992320.0000: 1s - loss: 1187354\n",
      "Epoch 71/100\n",
      "11709/11709 [==============================] - 1s 99us/sample - loss: 763988324.4761 - mean_squared_error: 763988224.0000\n",
      "Epoch 72/100\n",
      "11709/11709 [==============================] - 1s 99us/sample - loss: 763987148.5066 - mean_squared_error: 763987328.0000\n",
      "Epoch 73/100\n",
      "11709/11709 [==============================] - 1s 100us/sample - loss: 763982649.8479 - mean_squared_error: 763983232.0000\n",
      "Epoch 74/100\n",
      "11709/11709 [==============================] - 1s 93us/sample - loss: 763978221.6039 - mean_squared_error: 763978112.0000\n",
      "Epoch 75/100\n",
      "11709/11709 [==============================] - 1s 86us/sample - loss: 763976357.2635 - mean_squared_error: 763976576.0000\n",
      "Epoch 76/100\n",
      "11709/11709 [==============================] - 1s 84us/sample - loss: 763971091.1554 - mean_squared_error: 763971008.0000\n",
      "Epoch 77/100\n",
      "11709/11709 [==============================] - 1s 78us/sample - loss: 763970303.5257 - mean_squared_error: 763970496.0000\n",
      "Epoch 78/100\n",
      "11709/11709 [==============================] - 1s 77us/sample - loss: 763964674.0184 - mean_squared_error: 763964736.0000\n",
      "Epoch 79/100\n",
      "11709/11709 [==============================] - 0s 41us/sample - loss: 763962029.6427 - mean_squared_error: 763961728.0000\n",
      "Epoch 80/100\n",
      "11709/11709 [==============================] - 0s 40us/sample - loss: 763957137.3801 - mean_squared_error: 763957632.0000\n",
      "Epoch 81/100\n",
      "11709/11709 [==============================] - 0s 41us/sample - loss: 763955716.0674 - mean_squared_error: 763955712.0000\n",
      "Epoch 82/100\n",
      "11709/11709 [==============================] - 1s 55us/sample - loss: 763953019.7080 - mean_squared_error: 763952832.0000\n",
      "Epoch 83/100\n",
      "11709/11709 [==============================] - 1s 85us/sample - loss: 763950234.5251 - mean_squared_error: 763950272.0000\n",
      "Epoch 84/100\n",
      "11709/11709 [==============================] - 1s 102us/sample - loss: 763941948.9574 - mean_squared_error: 763942016.0000\n",
      "Epoch 85/100\n",
      "11709/11709 [==============================] - 1s 96us/sample - loss: 763940024.4177 - mean_squared_error: 763940288.0000\n",
      "Epoch 86/100\n",
      "11709/11709 [==============================] - 1s 88us/sample - loss: 763937798.7833 - mean_squared_error: 763937472.0000\n",
      "Epoch 87/100\n",
      "11709/11709 [==============================] - 1s 87us/sample - loss: 763933697.0467 - mean_squared_error: 763933696.0000\n",
      "Epoch 88/100\n",
      "11709/11709 [==============================] - 1s 73us/sample - loss: 763928975.9835 - mean_squared_error: 763929152.0000\n",
      "Epoch 89/100\n",
      "11709/11709 [==============================] - 1s 70us/sample - loss: 763927612.0269 - mean_squared_error: 763927616.0000\n",
      "Epoch 90/100\n",
      "11709/11709 [==============================] - 1s 78us/sample - loss: 763920857.7889 - mean_squared_error: 763920768.0000s - loss: 1149670694.7367 - mean_squared_erro\n",
      "Epoch 91/100\n",
      "11709/11709 [==============================] - 1s 78us/sample - loss: 763917181.8330 - mean_squared_error: 763917312.0000\n",
      "Epoch 92/100\n",
      "11709/11709 [==============================] - 1s 82us/sample - loss: 763913149.6517 - mean_squared_error: 763913024.0000\n",
      "Epoch 93/100\n",
      "11709/11709 [==============================] - 1s 103us/sample - loss: 763911214.4799 - mean_squared_error: 763911296.0000\n",
      "Epoch 94/100\n",
      "11709/11709 [==============================] - 1s 86us/sample - loss: 763905374.5646 - mean_squared_error: 763905472.0000\n",
      "Epoch 95/100\n",
      "11709/11709 [==============================] - 1s 82us/sample - loss: 763901732.9938 - mean_squared_error: 763901440.0000\n",
      "Epoch 96/100\n",
      "11709/11709 [==============================] - 1s 78us/sample - loss: 763900372.4609 - mean_squared_error: 763900096.0000\n",
      "Epoch 97/100\n",
      "11709/11709 [==============================] - 1s 78us/sample - loss: 763896847.8845 - mean_squared_error: 763896640.0000\n",
      "Epoch 98/100\n",
      "11709/11709 [==============================] - ETA: 0s - loss: 798085183.5971 - mean_squared_error: 798084928.00 - 1s 78us/sample - loss: 763892083.0061 - mean_squared_error: 763891840.0000\n",
      "Epoch 99/100\n",
      "11709/11709 [==============================] - 1s 84us/sample - loss: 763889085.8698 - mean_squared_error: 763888832.0000loss: 57598189.50\n",
      "Epoch 100/100\n",
      "11709/11709 [==============================] - 1s 109us/sample - loss: 763886352.8896 - mean_squared_error: 763886144.0000\n",
      "Model: \"sequential\"\n",
      "_________________________________________________________________\n",
      "Layer (type)                 Output Shape              Param #   \n",
      "=================================================================\n",
      "dense (Dense)                (None, 6)                 48        \n",
      "_________________________________________________________________\n",
      "dense_1 (Dense)              (None, 6)                 42        \n",
      "_________________________________________________________________\n",
      "dense_2 (Dense)              (None, 1)                 7         \n",
      "=================================================================\n",
      "Total params: 97\n",
      "Trainable params: 97\n",
      "Non-trainable params: 0\n",
      "_________________________________________________________________\n",
      "Mean Absolute Error: 5149.428492415798\n",
      "Mean Squared Error: 10887975976.931274\n",
      "Root Mean Squared Error: 104345.46457288536\n"
     ]
    }
   ],
   "source": [
    "ann = keras.models.Sequential([\n",
    "Dense(6, activation=\"relu\",\n",
    "input_shape=X_train.shape[1:]),\n",
    "Dense(6,activation=\"relu\"),\n",
    "Dense(1)\n",
    "])\n",
    "optimizer=keras.optimizers.Adam()\n",
    "loss=keras.losses.mean_squared_error\n",
    "ann.compile(optimizer=optimizer,loss=loss,metrics=[\"mean_squared_error\"])\n",
    "history=ann.fit(X_train,y_train,epochs=100)\n",
    "ann.summary()\n",
    "print_error(X_test,y_test,ann)"
   ]
  },
  {
   "cell_type": "code",
   "execution_count": 24,
   "metadata": {},
   "outputs": [],
   "source": [
    "#Saving Scikitlearn models\n",
    "import joblib\n",
    "# Saving Keras Artificial Neural Network model\n",
    "ann.save(\"ann_youtubeadview.h5\")"
   ]
  },
  {
   "cell_type": "markdown",
   "metadata": {},
   "source": [
    "### Since We can see Tree Regressor model give us the least error we gonna fit our test model here"
   ]
  },
  {
   "cell_type": "code",
   "execution_count": 25,
   "metadata": {},
   "outputs": [],
   "source": [
    "data_test=data_test.drop([\"vidid\"],axis=1)\n",
    "data_test.head()\n",
    "X_test=data_test\n",
    "# Normalise Data\n",
    "from sklearn.preprocessing import MinMaxScaler\n",
    "scaler = MinMaxScaler()\n",
    "X_test=scaler.fit_transform(X_test)"
   ]
  },
  {
   "cell_type": "code",
   "execution_count": 26,
   "metadata": {},
   "outputs": [],
   "source": [
    "decision_tree = DecisionTreeRegressor()"
   ]
  },
  {
   "cell_type": "code",
   "execution_count": 27,
   "metadata": {},
   "outputs": [
    {
     "data": {
      "text/plain": [
       "DecisionTreeRegressor(criterion='mse', max_depth=None, max_features=None,\n",
       "                      max_leaf_nodes=None, min_impurity_decrease=0.0,\n",
       "                      min_impurity_split=None, min_samples_leaf=1,\n",
       "                      min_samples_split=2, min_weight_fraction_leaf=0.0,\n",
       "                      presort=False, random_state=None, splitter='best')"
      ]
     },
     "execution_count": 27,
     "metadata": {},
     "output_type": "execute_result"
    }
   ],
   "source": [
    "decision_tree.fit(X_train, y_train)"
   ]
  },
  {
   "cell_type": "code",
   "execution_count": 28,
   "metadata": {},
   "outputs": [],
   "source": [
    "y_prediction=decision_tree.predict(X_test)"
   ]
  },
  {
   "cell_type": "code",
   "execution_count": 29,
   "metadata": {},
   "outputs": [
    {
     "data": {
      "text/plain": [
       "array([ 5.,  1.,  4., ..., 19.,  1.,  7.])"
      ]
     },
     "execution_count": 29,
     "metadata": {},
     "output_type": "execute_result"
    }
   ],
   "source": [
    "y_prediction"
   ]
  },
  {
   "cell_type": "markdown",
   "metadata": {},
   "source": [
    "### TASK SAVED IN y_prediction"
   ]
  },
  {
   "cell_type": "code",
   "execution_count": 59,
   "metadata": {},
   "outputs": [],
   "source": [
    "df=pd.DataFrame({'y_Prediction':y_prediction})"
   ]
  },
  {
   "cell_type": "code",
   "execution_count": 64,
   "metadata": {},
   "outputs": [],
   "source": [
    "df.to_csv(\"Desktop/Prediction.csv\",index=False)"
   ]
  },
  {
   "cell_type": "code",
   "execution_count": null,
   "metadata": {},
   "outputs": [],
   "source": []
  }
 ],
 "metadata": {
  "kernelspec": {
   "display_name": "Python 3",
   "language": "python",
   "name": "python3"
  },
  "language_info": {
   "codemirror_mode": {
    "name": "ipython",
    "version": 3
   },
   "file_extension": ".py",
   "mimetype": "text/x-python",
   "name": "python",
   "nbconvert_exporter": "python",
   "pygments_lexer": "ipython3",
   "version": "3.7.4"
  }
 },
 "nbformat": 4,
 "nbformat_minor": 2
}
